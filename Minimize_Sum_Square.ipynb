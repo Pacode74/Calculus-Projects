{
 "cells": [
  {
   "cell_type": "code",
   "execution_count": 1,
   "id": "822fc708-fb34-489e-bf29-9e1364b6b0c8",
   "metadata": {},
   "outputs": [],
   "source": [
    "import numpy as np\n",
    "import matplotlib.pyplot as plt\n",
    "import pandas as pd\n",
    "import sympy as sp"
   ]
  },
  {
   "cell_type": "markdown",
   "id": "e39c1f15-416f-4323-a138-fc25fe996ba3",
   "metadata": {},
   "source": [
    "## 🧠 Optimization Procedure: Step-by-Step Guide\n",
    "\n",
    "We are solving the problem:\n",
    "\n",
    "> **What is the smallest possible sum of squares of two numbers** $S = x^2 + y^2$ **given that** $x \\cdot y = -16$?\n",
    "\n",
    "---"
   ]
  },
  {
   "cell_type": "markdown",
   "id": "07de2457-df6c-4c6f-afaf-b12959a71ae0",
   "metadata": {},
   "source": [
    "**So we need to minimize the function $S = x^2 + y^2$**"
   ]
  },
  {
   "cell_type": "markdown",
   "id": "06733bca-ad60-46d8-9657-6849ca6e6d1f",
   "metadata": {
    "jp-MarkdownHeadingCollapsed": true
   },
   "source": [
    "### **Step 1: Reduce the Function to One Variable**\n",
    "\n",
    "We are given a **constraint**:  \n",
    "$$\n",
    "x \\cdot y = -16 \\Rightarrow y = -\\frac{16}{x}\n",
    "$$\n",
    "\n",
    "Substitute $y$ into $S = x^2 + y^2$:\n",
    "$$\n",
    "S(x) = x^2 + \\left(-\\frac{16}{x}\\right)^2 = x^2 + \\frac{256}{x^2}\n",
    "$$\n",
    "\n",
    "This is the sum of the squares that we want to minimize. So we need to find minimum value for x. Now $S$ is a function of **one variable**, which allows us to use calculus to minimize it. First and second Derivative tests only apply directly to single-variable functions. \n",
    "\n",
    "\n",
    "> ✅ **Note**: The function $S(x)$ is **undefined at $x = 0$**, because of the division by $x^2$:\n",
    "> $$\n",
    "> \\frac{256}{x^2} \\to \\frac{256}{0} = \\text{undefined}\n",
    "> $$\n",
    "> So $x = 0$ is **not in the domain** of $S(x)$, and therefore **cannot** be a candidate for a minimum or maximum.\n",
    "\n",
    "---"
   ]
  },
  {
   "cell_type": "code",
   "execution_count": 2,
   "id": "8f25ec2b-11b5-4528-9de4-e1e46e0a1599",
   "metadata": {},
   "outputs": [
    {
     "name": "stdout",
     "output_type": "stream",
     "text": [
      "Objective function S(x, y):\n"
     ]
    },
    {
     "data": {
      "text/latex": [
       "$\\displaystyle S{\\left(x,y \\right)} = x^{2} + y^{2}$"
      ],
      "text/plain": [
       "Eq(S(x, y), x**2 + y**2)"
      ]
     },
     "metadata": {},
     "output_type": "display_data"
    },
    {
     "name": "stdout",
     "output_type": "stream",
     "text": [
      "\n",
      "Constraint:\n"
     ]
    },
    {
     "data": {
      "text/latex": [
       "$\\displaystyle x y = -16$"
      ],
      "text/plain": [
       "Eq(x*y, -16)"
      ]
     },
     "metadata": {},
     "output_type": "display_data"
    },
    {
     "name": "stdout",
     "output_type": "stream",
     "text": [
      "\n",
      "Solving constraint for y:\n"
     ]
    },
    {
     "data": {
      "text/latex": [
       "$\\displaystyle y = - \\frac{16}{x}$"
      ],
      "text/plain": [
       "Eq(y, -16/x)"
      ]
     },
     "metadata": {},
     "output_type": "display_data"
    },
    {
     "name": "stdout",
     "output_type": "stream",
     "text": [
      "\n",
      "Reduced function S(x):\n"
     ]
    },
    {
     "data": {
      "text/latex": [
       "$\\displaystyle S{\\left(x \\right)} = x^{2} + \\frac{256}{x^{2}}$"
      ],
      "text/plain": [
       "Eq(S(x), x**2 + 256/x**2)"
      ]
     },
     "metadata": {},
     "output_type": "display_data"
    }
   ],
   "source": [
    "# Step 1: Define F(x, y) and reduce to S(x)\n",
    "\n",
    "from sympy import symbols, Function, Eq, simplify, solve\n",
    "\n",
    "# render output (like SymPy equations) using LaTeX formatting\n",
    "from IPython.display import display\n",
    "\n",
    "# Define symbolic variables\n",
    "x, y = symbols('x y')\n",
    "S = Function('S')\n",
    "S_xy = S(x,y)\n",
    "\n",
    "# Define the objective function in two variables: F(x, y) = x^2 + y^2\n",
    "expr_xy = x**2 + y**2\n",
    "eq_S_xy = Eq(S_xy, expr_xy)\n",
    "\n",
    "# Define the constraint: x * y = -16\n",
    "constraint = Eq(x * y, -16)\n",
    "\n",
    "# Solve the constraint for y\n",
    "y_expr = solve(constraint, y)[0] # y = -16 / x\n",
    "\n",
    "# Define y function\n",
    "eq_y = Eq(y, y_expr)\n",
    "\n",
    "#Define S(x) function and its expression\n",
    "S_x = S(x)\n",
    "S_x_expr = x**2 + y_expr**2\n",
    "eq_S_x = Eq(S_x, S_x_expr)\n",
    "\n",
    "# Display the process\n",
    "print(\"Objective function S(x, y):\")\n",
    "display(eq_S_xy)\n",
    "\n",
    "print(\"\\nConstraint:\")\n",
    "display(constraint)\n",
    "\n",
    "print(\"\\nSolving constraint for y:\")\n",
    "display(eq_y)\n",
    "\n",
    "print(\"\\nReduced function S(x):\")\n",
    "display(eq_S_x)"
   ]
  },
  {
   "cell_type": "code",
   "execution_count": 3,
   "id": "b9a94fbf-5eef-4641-9bad-2a726a6909e0",
   "metadata": {},
   "outputs": [
    {
     "data": {
      "text/latex": [
       "$\\displaystyle S{\\left(x \\right)} = x^{2} + \\frac{256}{x^{2}}$"
      ],
      "text/plain": [
       "Eq(S(x), x**2 + 256/x**2)"
      ]
     },
     "execution_count": 3,
     "metadata": {},
     "output_type": "execute_result"
    }
   ],
   "source": [
    "eq_S_x"
   ]
  },
  {
   "cell_type": "code",
   "execution_count": 4,
   "id": "10669e97-e6a7-46ac-bf6e-2f7e8c868efb",
   "metadata": {
    "scrolled": true
   },
   "outputs": [
    {
     "data": {
      "text/latex": [
       "$\\displaystyle x^{2} + \\frac{256}{x^{2}}$"
      ],
      "text/plain": [
       "x**2 + 256/x**2"
      ]
     },
     "execution_count": 4,
     "metadata": {},
     "output_type": "execute_result"
    }
   ],
   "source": [
    "eq_S_x.rhs"
   ]
  },
  {
   "cell_type": "code",
   "execution_count": 5,
   "id": "e500981d-f8e0-4142-97e7-be704de27061",
   "metadata": {},
   "outputs": [
    {
     "data": {
      "text/latex": [
       "$\\displaystyle \\frac{x^{4} + 256}{x^{2}}$"
      ],
      "text/plain": [
       "(x**4 + 256)/x**2"
      ]
     },
     "execution_count": 5,
     "metadata": {},
     "output_type": "execute_result"
    }
   ],
   "source": [
    "S_x_simplified = simplify(eq_S_x.rhs)\n",
    "S_x_simplified"
   ]
  },
  {
   "cell_type": "markdown",
   "id": "f2f1916e-ded0-41ea-ae21-0e14952021db",
   "metadata": {},
   "source": [
    "| **Form**    | **Expression**                        | **Pros**                                                                 |\n",
    "|-------------|----------------------------------------|--------------------------------------------------------------------------|\n",
    "| **Expanded** | $x^2 + \\dfrac{256}{x^2}$               | It's simpler, cleaner, and friendlier for calculus-based optimization problems — especially when you're still building fluency. |\n",
    "| **Combined** | $\\dfrac{x^4 + 256}{x^2}$               | Useful when solving integrals or simplifying as a single rational function (e.g. partial fractions). |\n"
   ]
  },
  {
   "cell_type": "markdown",
   "id": "eb0ea1ba-3692-402e-ae2f-9895d93744b9",
   "metadata": {
    "jp-MarkdownHeadingCollapsed": true
   },
   "source": [
    "### **Step 2: Find the Critical Points**\n",
    "\n",
    "A critical point of a function $S(x)$ is a value of $x$ in the domain where:\n",
    "- $S(x) =$ defined where x within the domain of S  \n",
    "- $S'(x) = 0$ or\n",
    "- $S'(x)$ is undefined\n",
    "\n",
    "Differentiate $S(x)$:\n",
    "$$\n",
    "S'(x) = \\frac{d}{dx} \\left(x^2 + \\frac{256}{x^2}\\right) = 2x - \\frac{512}{x^3}\n",
    "$$\n",
    "\n",
    "Set the derivative equal to 0 to find critical points:\n",
    "$$\n",
    "2x - \\frac{512}{x^3} = 0\n",
    "$$\n",
    "\n",
    "Multiply both sides by $x^3$:\n",
    "$$\n",
    "2x^4 - 512 = 0 \\Rightarrow x^4 = 256 \\Rightarrow x = \\pm 4\n",
    "$$\n",
    "\n",
    "So, critical points: **$x = -4$ and $x = 4$**\n",
    "\n",
    "> ⚠️ Also notice: $S'(x)$ is **undefined at $x = 0$**, but this does **not** make $x = 0$ a valid critical point for extremum analysis — because $S(x)$ itself is undefined at $x = 0$. So $x = 0$ **is not in the domain of $S(x)$** and cannot be an extremum.\n",
    "\n",
    "---\n",
    "\n",
    "> 📌 The critical points become the **candidates** for the minimum, the maximum, or neither points.  \n",
    "> To determine which of the **candidates** are real extrema points, we need to conduct the **first derivative test** in the next step.  \n",
    "> To find whether the candidates are minimum, maximum, or neither, we check **where the sign of $S'(x)$ changes**.\n",
    "\n",
    "---\n"
   ]
  },
  {
   "cell_type": "code",
   "execution_count": 6,
   "id": "fe81bb1c-b3f9-467b-9468-bfcb474f9840",
   "metadata": {},
   "outputs": [
    {
     "name": "stdout",
     "output_type": "stream",
     "text": [
      "Reduced function S(x):\n"
     ]
    },
    {
     "data": {
      "text/latex": [
       "$\\displaystyle S{\\left(x \\right)} = x^{2} + \\frac{256}{x^{2}}$"
      ],
      "text/plain": [
       "Eq(S(x), x**2 + 256/x**2)"
      ]
     },
     "metadata": {},
     "output_type": "display_data"
    },
    {
     "name": "stdout",
     "output_type": "stream",
     "text": [
      "Points not in domain of S(x):\n"
     ]
    },
    {
     "data": {
      "text/latex": [
       "$\\displaystyle \\left\\{0\\right\\}$"
      ],
      "text/plain": [
       "{0}"
      ]
     },
     "metadata": {},
     "output_type": "display_data"
    },
    {
     "name": "stdout",
     "output_type": "stream",
     "text": [
      "\n",
      "First derivative S'(x):\n"
     ]
    },
    {
     "data": {
      "text/latex": [
       "$\\displaystyle \\operatorname{S'}{\\left(x \\right)} = 2 x - \\frac{512}{x^{3}}$"
      ],
      "text/plain": [
       "Eq(S'(x), 2*x - 512/x**3)"
      ]
     },
     "metadata": {},
     "output_type": "display_data"
    },
    {
     "name": "stdout",
     "output_type": "stream",
     "text": [
      "\n",
      "Solve S'(x) = 0:\n"
     ]
    },
    {
     "data": {
      "text/latex": [
       "$\\displaystyle 2 x - \\frac{512}{x^{3}} = 0$"
      ],
      "text/plain": [
       "Eq(2*x - 512/x**3, 0)"
      ]
     },
     "metadata": {},
     "output_type": "display_data"
    },
    {
     "name": "stdout",
     "output_type": "stream",
     "text": [
      "\n",
      "Critical points (excluding x = 0):\n"
     ]
    },
    {
     "data": {
      "text/latex": [
       "$\\displaystyle -4$"
      ],
      "text/plain": [
       "-4"
      ]
     },
     "metadata": {},
     "output_type": "display_data"
    },
    {
     "data": {
      "text/latex": [
       "$\\displaystyle 4$"
      ],
      "text/plain": [
       "4"
      ]
     },
     "metadata": {},
     "output_type": "display_data"
    }
   ],
   "source": [
    "# Step 2: Take the derivative of S(x), find critical points\n",
    "\n",
    "from sympy import diff\n",
    "from sympy.calculus.util import singularities\n",
    "\n",
    "# 1. First derivative\n",
    "S_prime_expr = diff(eq_S_x.rhs, x)\n",
    "S_prime = Function(\"S'\")(x)\n",
    "eq_S_prime = Eq(S_prime, S_prime_expr)\n",
    "\n",
    "# 2. Solve S'(x) = 0 to find critical points\n",
    "critical_eq = Eq(S_prime_expr, 0)\n",
    "critical_points = solve(critical_eq, x)\n",
    "\n",
    "# 3. Determine points where S(x) is undefined, output is a set\n",
    "undefined_points = singularities(S_x_expr, x)\n",
    "\n",
    "# 4. Filter out any critical points not in the domain of S(x) and that points are all real-values and not complex numbers\n",
    "domain_safe_critical_points = [pt for pt in critical_points if pt.is_real and pt not in undefined_points]\n",
    "\n",
    "# Display\n",
    "print(\"Reduced function S(x):\")\n",
    "display(eq_S_x)\n",
    "\n",
    "print(\"Points not in domain of S(x):\")\n",
    "display(undefined_points)\n",
    "\n",
    "print(\"\\nFirst derivative S'(x):\")\n",
    "display(eq_S_prime)\n",
    "\n",
    "print(\"\\nSolve S'(x) = 0:\")\n",
    "display(critical_eq)\n",
    "\n",
    "print(\"\\nCritical points (excluding x = 0):\")\n",
    "for pt in domain_safe_critical_points:\n",
    "    display(pt)"
   ]
  },
  {
   "cell_type": "code",
   "execution_count": 7,
   "id": "1f456140-347a-46f1-929c-f25823e85753",
   "metadata": {},
   "outputs": [
    {
     "data": {
      "text/plain": [
       "[-4, 4]"
      ]
     },
     "execution_count": 7,
     "metadata": {},
     "output_type": "execute_result"
    }
   ],
   "source": [
    "domain_safe_critical_points"
   ]
  },
  {
   "cell_type": "code",
   "execution_count": 8,
   "id": "3f5e0f46-beae-48d9-8786-1f7d0f2a7ead",
   "metadata": {},
   "outputs": [
    {
     "data": {
      "text/plain": [
       "[-4, 4, -4*I, 4*I]"
      ]
     },
     "execution_count": 8,
     "metadata": {},
     "output_type": "execute_result"
    }
   ],
   "source": [
    "critical_points"
   ]
  },
  {
   "cell_type": "markdown",
   "id": "a31f4528-ed7c-404a-8a2c-bc2a29f24e21",
   "metadata": {
    "jp-MarkdownHeadingCollapsed": true
   },
   "source": [
    "### **Step 3: First Derivative Test**\n",
    "\n",
    "The first derivative test helps determine whether a function **f(x)** has a **relative (local) maximum or minimum** at a **critical point** (where the derivative **f'(x) = 0** or **f'(x)** is undefined).\n",
    "\n",
    "Here's how it works:\n",
    "\n",
    "- If **f'(x)** changes from **positive to negative** at a point **x = c**, then **f(x)** has a **relative maximum** at **x = c**.\n",
    "- If **f'(x)** changes from **negative to positive** at **x = c**, then **f(x)** has a **relative minimum** at **x = c**.\n",
    "- If **f'(x)** **does not change sign** at **x = c** (stays positive or stays negative), then **f(x)** has **no relative extremum** at that point. It might be a point of inflection or just a \"flat spot\" on an increasing or decreasing interval.\n",
    "\n",
    "---\n",
    "\n",
    "So with the first derivative test, we evaluate $S'$ at each interval to see if it is positive or negative on that interval. The critical point is at its maximum if S'(x) switches signs from + to - as we cross x. The other way around, the critical point at its minimum if S'(x) switches signs from - to +. We analyze **where $S'(x)$ is positive or negative** around the critical points.\n",
    "\n",
    "| Interval        | Test x | $S'(x)$               | Verdict      |\n",
    "|----------------|--------|------------------------|--------------|\n",
    "| (-∞, -4)        | -5     | $< 0$                 | Decreasing   |\n",
    "| (-4, 0)         | -2     | $> 0$                 | Increasing   |\n",
    "| (0, 4)          | 2      | $< 0$                 | Decreasing   |\n",
    "| (4, ∞)          | 5      | $> 0$                 | Increasing   |\n",
    "\n",
    "Interpretation:\n",
    "- At $x = -4$, $S'(x)$ switches from **negative to positive** → local **minimum**\n",
    "- At $x = 4$, same switch from **negative to positive** → local **minimum**\n",
    "\n",
    "> ❌ At $x = 0$, $S(x)$ is undefined. So even though $S'(x)$ is undefined there too, **$x = 0$ is not a valid critical point**, and **cannot** be a local max or min.\n",
    "\n",
    "---"
   ]
  },
  {
   "cell_type": "code",
   "execution_count": 9,
   "id": "5da2a5d1-58cf-453d-a74f-15bfd20db28b",
   "metadata": {},
   "outputs": [
    {
     "data": {
      "text/html": [
       "<div>\n",
       "<style scoped>\n",
       "    .dataframe tbody tr th:only-of-type {\n",
       "        vertical-align: middle;\n",
       "    }\n",
       "\n",
       "    .dataframe tbody tr th {\n",
       "        vertical-align: top;\n",
       "    }\n",
       "\n",
       "    .dataframe thead th {\n",
       "        text-align: right;\n",
       "    }\n",
       "</style>\n",
       "<table border=\"1\" class=\"dataframe\">\n",
       "  <thead>\n",
       "    <tr style=\"text-align: right;\">\n",
       "      <th></th>\n",
       "      <th>Interval</th>\n",
       "      <th>Test x</th>\n",
       "      <th>S'(x)</th>\n",
       "      <th>Slope behavior</th>\n",
       "    </tr>\n",
       "  </thead>\n",
       "  <tbody>\n",
       "    <tr>\n",
       "      <th>0</th>\n",
       "      <td>(-oo, -4)</td>\n",
       "      <td>-5</td>\n",
       "      <td>-5.90400000000000</td>\n",
       "      <td>Decreasing</td>\n",
       "    </tr>\n",
       "    <tr>\n",
       "      <th>1</th>\n",
       "      <td>(-4, 0)</td>\n",
       "      <td>-2</td>\n",
       "      <td>60.0000000000000</td>\n",
       "      <td>Increasing</td>\n",
       "    </tr>\n",
       "    <tr>\n",
       "      <th>2</th>\n",
       "      <td>(0, 4)</td>\n",
       "      <td>2</td>\n",
       "      <td>-60.0000000000000</td>\n",
       "      <td>Decreasing</td>\n",
       "    </tr>\n",
       "    <tr>\n",
       "      <th>3</th>\n",
       "      <td>(4, oo)</td>\n",
       "      <td>5</td>\n",
       "      <td>5.90400000000000</td>\n",
       "      <td>Increasing</td>\n",
       "    </tr>\n",
       "  </tbody>\n",
       "</table>\n",
       "</div>"
      ],
      "text/plain": [
       "    Interval Test x              S'(x) Slope behavior\n",
       "0  (-oo, -4)     -5  -5.90400000000000     Decreasing\n",
       "1    (-4, 0)     -2   60.0000000000000     Increasing\n",
       "2     (0, 4)      2  -60.0000000000000     Decreasing\n",
       "3    (4, oo)      5   5.90400000000000     Increasing"
      ]
     },
     "metadata": {},
     "output_type": "display_data"
    }
   ],
   "source": [
    "from sympy import Interval, oo, N\n",
    "\n",
    "# --- Already provided code ---\n",
    "# Combine real-valued critical points and undefined points to split intervals\n",
    "split_points = sorted([\n",
    "    pt for pt in domain_safe_critical_points + list(undefined_points)\n",
    "    if pt.is_real\n",
    "])\n",
    "# print(f\"Split_points: {split_points}\") # Optional debug print\n",
    "\n",
    "\n",
    "# Build test intervals using these split points\n",
    "test_intervals = (\n",
    "    [Interval.open(-oo, split_points[0])] +\n",
    "    [Interval.open(a, b) for a, b in zip(split_points[:-1], split_points[1:])] +\n",
    "    [Interval.open(split_points[-1], oo)]\n",
    ")\n",
    "# print(f\"Test Intervals: {test_intervals}\") # Optional debug print\n",
    "\n",
    "# Midpoint function (generic)\n",
    "def midpoint(interval):\n",
    "    a, b = interval.start, interval.end\n",
    "    if a.is_finite and b.is_finite:\n",
    "        m = (a + b) / 2\n",
    "        return m if m != 0 else a + (b - a) / 3  # shift slightly if midpoint is 0\n",
    "    elif a == -oo and b.is_finite:\n",
    "        return b - 1\n",
    "    elif a.is_finite and b == oo:\n",
    "        return a + 1\n",
    "    else:\n",
    "        return 1  # fallback if both bounds are infinite\n",
    "\n",
    "\n",
    "# Evaluate S'(x) in each interval\n",
    "test_table = []\n",
    "\n",
    "for interval in test_intervals:\n",
    "    test_x = midpoint(interval)\n",
    "    # print(f\"Testing midpoint: {test_x}\")  # Optional debug print\n",
    "\n",
    "    slope = S_prime_expr.subs(x, test_x)\n",
    "    slope_value = N(slope)\n",
    "\n",
    "    if slope_value.is_real:\n",
    "        verdict = \"Increasing\" if slope_value > 0 else \"Decreasing\"\n",
    "    else:\n",
    "        verdict = \"Undefined\"\n",
    "\n",
    "    test_table.append({\n",
    "        \"Interval\": f\"({interval.start}, {interval.end})\",\n",
    "        \"Test x\": test_x,\n",
    "        \"S'(x)\": slope_value,\n",
    "        \"Slope behavior\": verdict\n",
    "    })\n",
    "\n",
    "# Display table\n",
    "import pandas as pd\n",
    "df_test = pd.DataFrame(test_table)\n",
    "display(df_test)"
   ]
  },
  {
   "cell_type": "markdown",
   "id": "ce05ef8e-f2f7-4028-a7ac-1e1a028298d2",
   "metadata": {},
   "source": [
    "---\n",
    "\n",
    "#### 📘 Step 3: First Derivative Test — Description\n",
    "\n",
    "This code performs a **first derivative test** to analyze the behavior of the function $S(x)$ around its critical points and discontinuities:\n",
    "\n",
    "- It starts by combining all **real-valued critical points** (where $S'(x) = 0$) and **undefined points** (where $S(x)$ is not defined, like $x = 0$).\n",
    "- These points are used to split the number line into **open intervals**.\n",
    "- For each interval, a **midpoint** is calculated (avoiding problematic values like $x = 0$).\n",
    "- The code then evaluates the **first derivative** $S'(x)$ at the midpoint of each interval.\n",
    "- Based on the sign of $S'(x)$, it determines whether $S(x)$ is **increasing** or **decreasing** in that interval.\n",
    "- The results are collected in a table for further analysis or visualization.\n",
    "\n",
    "This test helps identify whether a critical point corresponds to a **local minimum**, **maximum**, or **neither**, by checking where the derivative changes sign.\n",
    "\n"
   ]
  },
  {
   "cell_type": "markdown",
   "id": "f10970f3-78c8-48fc-890d-dd2d086c0481",
   "metadata": {
    "jp-MarkdownHeadingCollapsed": true
   },
   "source": [
    "### **Step 4: Second Derivative Test (Concavity Test)**\n",
    "\n",
    "The second derivative test provides another way to determine whether a critical point is a maximum or minimum, but it requires that the **first derivative is zero** at that point.\n",
    "\n",
    "Let **x = c** be a point where **f'(c) = 0**.\n",
    "\n",
    "- If **f''(c) > 0**, the graph is **concave up** at **x = c**, so **f(x)** has a **relative minimum** there.\n",
    "- If **f''(c) < 0**, the graph is **concave down** at **x = c**, so **f(x)** has a **relative maximum** there.\n",
    "- If **f''(c) = 0**, the test is **inconclusive** — you need to use the first derivative test or another method to analyze the behavior of the function around that point.\n",
    "\n",
    "---\n",
    "\n",
    "\n",
    "Differentiate again:\n",
    "$$\n",
    "S''(x) = \\frac{d}{dx}\\left(2x - \\frac{512}{x^3}\\right) = 2 + \\frac{1536}{x^4}\n",
    "$$\n",
    "\n",
    "- For all $x \\ne 0$, $S''(x) > 0$ → the graph of function $S(x)$ is **concave up** at all points\n",
    "- So both critical points are **relative (and global) minima**\n",
    "\n",
    "---\n",
    "\n",
    "| Interval        | Test x | $S''(x)$               | Verdict      |\n",
    "|----------------|--------|------------------------|--------------|\n",
    "| (-∞, -4)        | -5     | $> 0$                 | Concave Up   |\n",
    "| (-4, 0)         | -2     | $> 0$                 | Concave Up   |\n",
    "| (0, 4)          | 2      | $> 0$                 | Concave Up   |\n",
    "| (4, ∞)          | 5      | $> 0$                 | Concave Up   |\n"
   ]
  },
  {
   "cell_type": "code",
   "execution_count": 10,
   "id": "c58453dd-8ac8-4cd7-94e9-70aab45d21ac",
   "metadata": {},
   "outputs": [
    {
     "name": "stdout",
     "output_type": "stream",
     "text": [
      "Second Derivative S''(x):\n"
     ]
    },
    {
     "data": {
      "text/latex": [
       "$\\displaystyle \\operatorname{S''}{\\left(x \\right)} = 2 + \\frac{1536}{x^{4}}$"
      ],
      "text/plain": [
       "Eq(S''(x), 2 + 1536/x**4)"
      ]
     },
     "metadata": {},
     "output_type": "display_data"
    },
    {
     "data": {
      "text/html": [
       "<div>\n",
       "<style scoped>\n",
       "    .dataframe tbody tr th:only-of-type {\n",
       "        vertical-align: middle;\n",
       "    }\n",
       "\n",
       "    .dataframe tbody tr th {\n",
       "        vertical-align: top;\n",
       "    }\n",
       "\n",
       "    .dataframe thead th {\n",
       "        text-align: right;\n",
       "    }\n",
       "</style>\n",
       "<table border=\"1\" class=\"dataframe\">\n",
       "  <thead>\n",
       "    <tr style=\"text-align: right;\">\n",
       "      <th></th>\n",
       "      <th>Interval</th>\n",
       "      <th>Test x</th>\n",
       "      <th>S''(x)</th>\n",
       "      <th>Concavity</th>\n",
       "    </tr>\n",
       "  </thead>\n",
       "  <tbody>\n",
       "    <tr>\n",
       "      <th>0</th>\n",
       "      <td>(-oo, -4)</td>\n",
       "      <td>-5</td>\n",
       "      <td>4.45760000000000</td>\n",
       "      <td>Concave up</td>\n",
       "    </tr>\n",
       "    <tr>\n",
       "      <th>1</th>\n",
       "      <td>(-4, 0)</td>\n",
       "      <td>-2</td>\n",
       "      <td>98.0000000000000</td>\n",
       "      <td>Concave up</td>\n",
       "    </tr>\n",
       "    <tr>\n",
       "      <th>2</th>\n",
       "      <td>(0, 4)</td>\n",
       "      <td>2</td>\n",
       "      <td>98.0000000000000</td>\n",
       "      <td>Concave up</td>\n",
       "    </tr>\n",
       "    <tr>\n",
       "      <th>3</th>\n",
       "      <td>(4, oo)</td>\n",
       "      <td>5</td>\n",
       "      <td>4.45760000000000</td>\n",
       "      <td>Concave up</td>\n",
       "    </tr>\n",
       "  </tbody>\n",
       "</table>\n",
       "</div>"
      ],
      "text/plain": [
       "    Interval Test x            S''(x)   Concavity\n",
       "0  (-oo, -4)     -5  4.45760000000000  Concave up\n",
       "1    (-4, 0)     -2  98.0000000000000  Concave up\n",
       "2     (0, 4)      2  98.0000000000000  Concave up\n",
       "3    (4, oo)      5  4.45760000000000  Concave up"
      ]
     },
     "metadata": {},
     "output_type": "display_data"
    }
   ],
   "source": [
    "# Step 4: Second Derivative Test — Analyze concavity over the same intervals\n",
    "\n",
    "from sympy import diff\n",
    "\n",
    "# 1. Compute second derivative of S(x)\n",
    "S_double_prime_expr = diff(S_prime_expr, x)\n",
    "S_double_prime = Function(\"S''\")(x)\n",
    "eq_S_double_prime = Eq(S_double_prime, S_double_prime_expr)\n",
    "\n",
    "# 2. Evaluate S''(x) at each midpoint in the test intervals\n",
    "concavity_table = []\n",
    "\n",
    "for interval in test_intervals:\n",
    "    test_x = midpoint(interval)\n",
    "    concavity_value = N(S_double_prime_expr.subs(x, test_x))\n",
    "\n",
    "    if concavity_value.is_real:\n",
    "        verdict = \"Concave up\" if concavity_value > 0 else \"Concave down\"\n",
    "    else:\n",
    "        verdict = \"Undefined\"\n",
    "\n",
    "    concavity_table.append({\n",
    "        \"Interval\": f\"({interval.start}, {interval.end})\",\n",
    "        \"Test x\": test_x,\n",
    "        \"S''(x)\": concavity_value,\n",
    "        \"Concavity\": verdict\n",
    "    })\n",
    "\n",
    "# 3. Display results\n",
    "import pandas as pd\n",
    "df_concavity = pd.DataFrame(concavity_table)\n",
    "print(\"Second Derivative S''(x):\")\n",
    "display(eq_S_double_prime)\n",
    "display(df_concavity)\n"
   ]
  },
  {
   "cell_type": "markdown",
   "id": "db0f3081-4fb1-4553-aa4f-95d993702190",
   "metadata": {},
   "source": [
    "---\n",
    "\n",
    "#### 📘 Step 4: Second Derivative Test — Description\n",
    "\n",
    "This code analyzes the **concavity** of the function $S(x)$ across the same intervals used in Step 3 by applying the **second derivative test**:\n",
    "\n",
    "- It first computes the **second derivative** $S''(x)$ of the function.\n",
    "- Then, for each interval between critical points and discontinuities, it selects a **midpoint**.\n",
    "- It evaluates $S''(x)$ at that midpoint to determine whether the function is:\n",
    "  - **Concave up** ($S''(x) > 0$)\n",
    "  - **Concave down** ($S''(x) < 0$)\n",
    "  - Or **Undefined**\n",
    "- The result is presented in a table showing the **concavity behavior** of $S(x)$ on each interval.\n",
    "\n",
    "This step complements the First Derivative Test by giving insight into the **shape of the graph** and helps confirm whether critical points are minima or maxima.\n"
   ]
  },
  {
   "cell_type": "markdown",
   "id": "0eed582a-d524-4f3c-a8d6-a3bfbbfdac59",
   "metadata": {
    "jp-MarkdownHeadingCollapsed": true
   },
   "source": [
    "### **Step 5: Minimum Value**\n",
    "\n",
    "Plug $x = \\pm 4$ into $S(x)$:\n",
    "\n",
    "$$\n",
    "S(4) = 4^2 + \\left(\\frac{256}{4^2}\\right) = 16 + 16 = \\boxed{32}\n",
    "$$\n",
    "\n",
    "So, the **minimum sum of squares is 32**, which occurs when:\n",
    "\n",
    "- $(x, y) = (4, 32)$ or $(-4, 32)$\n",
    "\n",
    "---\n"
   ]
  },
  {
   "cell_type": "code",
   "execution_count": 11,
   "id": "d8cb484b-2311-4e6d-a4ba-5e6024ac7a4e",
   "metadata": {},
   "outputs": [
    {
     "name": "stdout",
     "output_type": "stream",
     "text": [
      "S(4) = 32.00\n",
      "S(-4) = 32.00\n"
     ]
    }
   ],
   "source": [
    "from sympy import N\n",
    "\n",
    "# Plug in x = 4 and x = -4 into the simplified expression of S(x)\n",
    "S_at_4 = eq_S_x.rhs.subs(x, 4)\n",
    "S_at_minus_4 = eq_S_x.rhs.subs(x, -4)\n",
    "\n",
    "# Optionally get numerical values\n",
    "S_at_4_val = N(S_at_4)\n",
    "S_at_minus_4_val = N(S_at_minus_4)\n",
    "\n",
    "# Display results\n",
    "print(f\"S(4) = {S_at_4_val:.2f}\")\n",
    "print(f\"S(-4) = {S_at_minus_4_val:.2f}\")\n"
   ]
  },
  {
   "cell_type": "markdown",
   "id": "b549e51d-6446-44bb-8d5c-a59a003151d8",
   "metadata": {
    "jp-MarkdownHeadingCollapsed": true
   },
   "source": [
    "### **Step 6: 📊 Visualization**\n",
    "\n",
    "- **Top plot**: The graph of $S(x)$ clearly shows **minima at $x = \\pm 4$**\n",
    "- **Middle plot**: $S'(x)$ changes sign from negative to positive at those points\n",
    "- **Bottom plot**: $S''(x)$ is always positive → confirms concavity is **upwards**"
   ]
  },
  {
   "cell_type": "markdown",
   "id": "9d7594a6-9497-452c-9e47-f383a9e04c63",
   "metadata": {},
   "source": [
    "---\n",
    "\n",
    "#### 🎯 **Goal of Visualization**\n",
    "\n",
    "- Plot the original function $S(x)$\n",
    "- Plot its first derivative $S'(x)$ below it\n",
    "- Plot its second derivative $S''(x)$ below that\n",
    "- Visually confirm the location of:\n",
    "  - Local minima / maxima\n",
    "  - Increasing / decreasing intervals\n",
    "  - Concave up / down regions\n",
    "  - Undefined points (e.g., vertical asymptote at $x = 0$)\n",
    "\n",
    "---\n",
    "\n",
    "#### ✅ Graphing $S(x)$, $S'(x)$, and $S''(x)$"
   ]
  },
  {
   "cell_type": "code",
   "execution_count": 16,
   "id": "9ba34e9b-2116-43a8-9e97-e4218033b96a",
   "metadata": {},
   "outputs": [
    {
     "data": {
      "image/png": "[encoded data removed]",
      "text/plain": [
       "<Figure size 1000x1200 with 5 Axes>"
      ]
     },
     "metadata": {},
     "output_type": "display_data"
    }
   ],
   "source": [
    "import numpy as np\n",
    "import matplotlib.pyplot as plt\n",
    "from sympy import lambdify\n",
    "from mpl_toolkits.axes_grid1.inset_locator import inset_axes\n",
    "\n",
    "# Convert symbolic expressions to numerical functions\n",
    "S_func = lambdify(x, S_x_expr, modules=[\"numpy\"])\n",
    "S_prime_func = lambdify(x, S_prime_expr, modules=[\"numpy\"])\n",
    "S_double_prime_func = lambdify(x, S_double_prime_expr, modules=[\"numpy\"])\n",
    "\n",
    "# Define x values (excluding x = 0)\n",
    "x_vals_left = np.linspace(-10, -0.2, 400)\n",
    "x_vals_right = np.linspace(0.2, 10, 400)\n",
    "\n",
    "# Evaluate functions separately on both sides of x = 0. This keeps the graph accurate and clean, showing the true discontinuity at $x = 0$.\n",
    "y_vals_S_left = S_func(x_vals_left)\n",
    "y_vals_S_right = S_func(x_vals_right)\n",
    "y_vals_S_prime_left = S_prime_func(x_vals_left)\n",
    "y_vals_S_prime_right = S_prime_func(x_vals_right)\n",
    "y_vals_S_double_prime_left = S_double_prime_func(x_vals_left)\n",
    "y_vals_S_double_prime_right = S_double_prime_func(x_vals_right)\n",
    "\n",
    "# ✅ Use constrained layout instead of tight_layout + subplots_adjust. constrained_layout=True emits No warnings.\n",
    "fig, axes = plt.subplots(3, 1, figsize=(10, 12), sharex=True, constrained_layout=True)\n",
    "\n",
    "# --- Plot S(x) ---\n",
    "axes[0].plot(x_vals_left, y_vals_S_left, color='blue', label='S(x)', linewidth=2)\n",
    "axes[0].plot(x_vals_right, y_vals_S_right, color='blue', linewidth=2)\n",
    "axes[0].set_title(\"Function S(x) = x² + 256/x²\")\n",
    "axes[0].set_ylabel(\"S(x)\")\n",
    "axes[0].set_ylim(0, 150) #focus on outer behavior (concavity) by limiting the y-range\n",
    "# or\n",
    "# axes[0].set_yscale(\"log\")\n",
    "axes[0].axvline(x=0, color='gray', linestyle='--', linewidth=0.8)\n",
    "axes[0].grid(True)\n",
    "axes[0].legend()\n",
    "axes[0].tick_params(labelbottom=True)\n",
    "\n",
    "# --- Plot S'(x) ---\n",
    "axes[1].plot(x_vals_left, y_vals_S_prime_left, label=\"S'(x)\", color='orange', linewidth=2)\n",
    "axes[1].plot(x_vals_right, y_vals_S_prime_right, color='orange', linewidth=2)\n",
    "axes[1].set_title(\"First Derivative S′(x) = 2x − 512/x³\")\n",
    "axes[1].set_ylabel(\"S′(x)\")\n",
    "axes[1].axhline(y=0, color='gray', linestyle='--', linewidth=0.8)\n",
    "axes[1].axvline(x=0, color='gray', linestyle='--', linewidth=0.8)\n",
    "axes[1].axvline(x=-4, color='red', linestyle='--', linewidth=1, label='x = -4')\n",
    "axes[1].axvline(x=4, color='red', linestyle='--', linewidth=1, label='x = 4')\n",
    "axes[1].grid(True)\n",
    "axes[1].legend()\n",
    "axes[1].tick_params(labelbottom=True)\n",
    "\n",
    "# --- Inset zoom near x = 4 ---\n",
    "inset_4 = inset_axes(axes[1], width=\"30%\", height=\"30%\", loc='upper right')\n",
    "x_zoom_4 = np.linspace(3.7, 4.3, 400)\n",
    "y_zoom_4 = S_prime_func(x_zoom_4)\n",
    "inset_4.plot(x_zoom_4, y_zoom_4, color='orange')\n",
    "inset_4.axhline(0, color='gray', linestyle='--', linewidth=0.5)\n",
    "inset_4.axvline(4, color='red', linestyle='--', linewidth=0.5)\n",
    "inset_4.set_title(\"Zoom near x = 4\", fontsize=8)\n",
    "inset_4.tick_params(labelsize=7)\n",
    "\n",
    "# --- Inset zoom near x = -4 ---\n",
    "inset_neg4 = inset_axes(axes[1], width=\"30%\", height=\"30%\", loc='lower left')\n",
    "x_zoom_neg4 = np.linspace(-4.3, -3.7, 400)\n",
    "y_zoom_neg4 = S_prime_func(x_zoom_neg4)\n",
    "inset_neg4.plot(x_zoom_neg4, y_zoom_neg4, color='orange')\n",
    "inset_neg4.axhline(0, color='gray', linestyle='--', linewidth=0.5)\n",
    "inset_neg4.axvline(-4, color='red', linestyle='--', linewidth=0.5)\n",
    "inset_neg4.set_title(\"Zoom near x = -4\", fontsize=8)\n",
    "inset_neg4.tick_params(labelsize=7)\n",
    "\n",
    "# --- Plot S''(x) ---\n",
    "axes[2].plot(x_vals_left, y_vals_S_double_prime_left, label=\"S''(x)\", color='green', linewidth=2)\n",
    "axes[2].plot(x_vals_right, y_vals_S_double_prime_right, color='green', linewidth=2)\n",
    "axes[2].set_title(\"Second Derivative S″(x) = 2 + 1536/x⁴\")\n",
    "axes[2].set_ylabel(\"S″(x)\")\n",
    "axes[2].set_xlabel(\"x\")\n",
    "axes[2].axhline(y=0, color='gray', linestyle='--', linewidth=0.8)\n",
    "axes[2].axvline(x=0, color='gray', linestyle='--', linewidth=0.8)\n",
    "axes[2].grid(True)\n",
    "axes[2].legend()\n",
    "\n",
    "# ✅ No need for tight_layout or subplots_adjust — it's all handled\n",
    "plt.show()\n"
   ]
  },
  {
   "cell_type": "markdown",
   "id": "f3450654-721d-4309-bc75-280eca9aa558",
   "metadata": {},
   "source": [
    "\n",
    "---\n",
    "\n",
    "#### 🧠 What this shows visually:\n",
    "\n",
    "| Plot           | What you’ll see |\n",
    "|----------------|------------------|\n",
    "| $S(x)$         | The bowl-shaped function with two symmetric arms and a vertical asymptote at $x=0$ |\n",
    "| $S'(x)$        | Changes sign at $x = -4$ and $x = 4$, confirming minima |\n",
    "| $S''(x)$       | Positive in outer intervals (concave up), negative in center (concave down) |\n",
    "\n",
    "---\n",
    "\n",
    "Let me know if you’d like to annotate the graphs with the actual critical points or vertical asymptotes!"
   ]
  },
  {
   "cell_type": "markdown",
   "id": "3e57bfe5-0c34-416e-9ec1-6f783d471001",
   "metadata": {},
   "source": [
    "---\n",
    "\n",
    "#### ✅ Summary\n",
    "\n",
    "| Key Point | Reason |\n",
    "|-----------|--------|\n",
    "| Reduced to one variable | Needed for single-variable calculus |\n",
    "| $x = 0$ excluded | Not in the domain of $S(x)$ — undefined |\n",
    "| $S'(x) = 0$ at $x = \\pm 4$ | Critical points |\n",
    "| $S''(x) > 0$ | Confirms these are minima |\n",
    "| Minimum value | $S = 32$ at $x = \\pm 4$ |"
   ]
  }
 ],
 "metadata": {
  "kernelspec": {
   "display_name": "Python 3.10.12 (Calculus-Projects)",
   "language": "python",
   "name": "calculus-projects_env"
  },
  "language_info": {
   "codemirror_mode": {
    "name": "ipython",
    "version": 3
   },
   "file_extension": ".py",
   "mimetype": "text/x-python",
   "name": "python",
   "nbconvert_exporter": "python",
   "pygments_lexer": "ipython3",
   "version": "3.10.12"
  }
 },
 "nbformat": 4,
 "nbformat_minor": 5
}
